{
 "cells": [
  {
   "cell_type": "markdown",
   "metadata": {},
   "source": [
    "# Slicing\n",
    "\n",
    "## Rainfall\n",
    "\n",
    "The file [rain.txt](https://raw.githubusercontent.com/PX2134/extra/master/rain.txt) contains the monthly average rainfalls in millimeters for Cardiff, Berlin and Los Angeles (in that order). Loading the data into a single array, and using this array, plot:\n",
    "\n",
    "- The monthly rainfall for each city\n",
    "- The yearly average rainfall for each city\n",
    "- The average rainfall between all cities for each month\n",
    "- The seasonal rainfall for each city"
   ]
  },
  {
   "cell_type": "code",
   "execution_count": null,
   "metadata": {},
   "outputs": [],
   "source": []
  },
  {
   "cell_type": "markdown",
   "metadata": {},
   "source": [
    "## Sudoku\n",
    "\n",
    "A [Sudoku](https://en.wikipedia.org/wiki/Sudoku) square is a square of 9 by 9 integers from 1 to 9, such that each row, each column and each of the 9 non-overlapping 3 by 3 sub-square contains all the integers from 1 to 9.\n",
    "\n",
    "Write a program to check if a 9 by 9 square of integers is a _Sudoku_ square. You may need to use `set()`, a command that returns the unique elements of an array, e.g.:"
   ]
  },
  {
   "cell_type": "code",
   "execution_count": 1,
   "metadata": {},
   "outputs": [
    {
     "data": {
      "text/plain": [
       "{1, 2, 3, 4, 5}"
      ]
     },
     "execution_count": 1,
     "metadata": {},
     "output_type": "execute_result"
    }
   ],
   "source": [
    "set([1,2,3,3,4,4,5])"
   ]
  },
  {
   "cell_type": "markdown",
   "metadata": {},
   "source": [
    "Using this program, try to use the [Monte Carlo](https://github.com/PX2134/extra/blob/master/Monte_Carlo.ipynb) method to write a Sudoku solver."
   ]
  },
  {
   "cell_type": "code",
   "execution_count": null,
   "metadata": {},
   "outputs": [],
   "source": []
  }
 ],
 "metadata": {
  "kernelspec": {
   "display_name": "Python 3",
   "language": "python",
   "name": "python3"
  },
  "language_info": {
   "codemirror_mode": {
    "name": "ipython",
    "version": 3
   },
   "file_extension": ".py",
   "mimetype": "text/x-python",
   "name": "python",
   "nbconvert_exporter": "python",
   "pygments_lexer": "ipython3",
   "version": "3.7.10"
  }
 },
 "nbformat": 4,
 "nbformat_minor": 2
}
