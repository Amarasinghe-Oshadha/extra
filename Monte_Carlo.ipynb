{
 "cells": [
  {
   "cell_type": "markdown",
   "metadata": {},
   "source": [
    "# Monte Carlo simulations"
   ]
  },
  {
   "cell_type": "markdown",
   "metadata": {},
   "source": [
    "## Monty Hall Problem:\n",
    "\n",
    "On a game show you have the choice of picking one of three doors. Behind one door there is a car. Behind the other two doors there are goats. You pick a door, and the host (who knows what’s behind each door), opens another door which has a goat. The host then asks you: do you want to stick with your original choice or choose the other closed door?\n",
    "\n",
    "Using Monte Carlo simulations, show if it is to your advantage to switch your choice of door... (Run many simulations, on set where the contestant always switches, and one where they never switch, then plot the win average for each sets)."
   ]
  },
  {
   "cell_type": "code",
   "execution_count": null,
   "metadata": {},
   "outputs": [],
   "source": []
  },
  {
   "cell_type": "markdown",
   "metadata": {},
   "source": [
    "## The house always wins\n",
    "\n",
    "The more you play ... Here is a simplified Roulette game as an example of random walks: a ball is spun into a wheel with 37 slots, from 0 to 36. If you bet on even (or odd) and the ball lands on even (or odd) numbers, you get double your bet money, if it lands on odd (or even), you lose your bet money. If the ball lands on 0, you lose your bet money. So if you bet 1£ on even, and the ball lands on 14, you have now 2£.\n",
    "\n",
    "Build a simulating function that takes as input the player starting money, the amount they bet every time, and number of time they bet, and returns the final money amount.\n",
    "\n",
    "Run this simulation multiple times, averaging over many players, in cases where they all bet a few times and cases where they all bet many times."
   ]
  },
  {
   "cell_type": "code",
   "execution_count": null,
   "metadata": {},
   "outputs": [],
   "source": []
  }
 ],
 "metadata": {
  "kernelspec": {
   "display_name": "Python 3",
   "language": "python",
   "name": "python3"
  },
  "language_info": {
   "codemirror_mode": {
    "name": "ipython",
    "version": 3
   },
   "file_extension": ".py",
   "mimetype": "text/x-python",
   "name": "python",
   "nbconvert_exporter": "python",
   "pygments_lexer": "ipython3",
   "version": "3.7.10"
  }
 },
 "nbformat": 4,
 "nbformat_minor": 2
}
