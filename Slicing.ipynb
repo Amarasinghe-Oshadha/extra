{
  "nbformat": 4,
  "nbformat_minor": 0,
  "metadata": {
    "kernelspec": {
      "display_name": "Python 3",
      "language": "python",
      "name": "python3"
    },
    "language_info": {
      "codemirror_mode": {
        "name": "ipython",
        "version": 3
      },
      "file_extension": ".py",
      "mimetype": "text/x-python",
      "name": "python",
      "nbconvert_exporter": "python",
      "pygments_lexer": "ipython3",
      "version": "3.7.10"
    },
    "colab": {
      "name": "Slicing.ipynb",
      "provenance": []
    }
  },
  "cells": [
    {
      "cell_type": "markdown",
      "metadata": {
        "id": "ldG9Nys7c_wK"
      },
      "source": [
        "# Slicing\n",
        "\n",
        "## Rainfall\n",
        "\n",
        "The file [rain.txt](https://raw.githubusercontent.com/PX2134/extra/master/rain.txt) contains the monthly average rainfalls in millimeters for Cardiff, Berlin and Los Angeles (in that order). Loading the data into a single array, and using this array, plot:\n",
        "\n",
        "- The monthly rainfall for each city\n",
        "- The yearly average rainfall for each city\n",
        "- The average rainfall between all cities for each month\n",
        "- The seasonal rainfall for each city"
      ]
    },
    {
      "cell_type": "code",
      "metadata": {
        "id": "6ZpTKIDfc_wP"
      },
      "source": [
        "import numpy as np\n",
        "import matplotlib.pyplot as plt"
      ],
      "execution_count": 1,
      "outputs": []
    },
    {
      "cell_type": "code",
      "metadata": {
        "id": "iggl4QH_d6P-"
      },
      "source": [
        "#Downloads file\n",
        "! wget -q https://raw.githubusercontent.com/PX2134/extra/master/rain.txt"
      ],
      "execution_count": 3,
      "outputs": []
    },
    {
      "cell_type": "code",
      "metadata": {
        "colab": {
          "base_uri": "https://localhost:8080/"
        },
        "id": "wdq-fBHTdprE",
        "outputId": "a615213b-254b-4f21-abe4-0f2176c9fe75"
      },
      "source": [
        "#Reads it in\n",
        "rain = np.loadtxt('rain.txt')\n",
        "\n",
        "#Shape of array (rows,columns)\n",
        "rain.shape\n",
        "\n",
        "#For a specific city (Cardiff)\n",
        "rain[0,:]\n",
        "\n",
        "#For January all cities\n",
        "rain[:,0]"
      ],
      "execution_count": 7,
      "outputs": [
        {
          "output_type": "execute_result",
          "data": {
            "text/plain": [
              "array([121.6 ,  37.2 ,   3.12])"
            ]
          },
          "metadata": {},
          "execution_count": 7
        }
      ]
    },
    {
      "cell_type": "code",
      "metadata": {
        "id": "zrgNZKGcgKvt"
      },
      "source": [
        "#List of cities\n",
        "cities = ['Cardiff', 'Berlin', 'Los Angeles']\n",
        "\n",
        "#List of Months\n",
        "months = ['Jan', 'Feb', 'Mar', 'Apr', 'May', 'Jun', 'Jul', 'Aug', 'Sep', 'Oct', 'Nov', 'Dec']"
      ],
      "execution_count": 20,
      "outputs": []
    },
    {
      "cell_type": "code",
      "metadata": {
        "colab": {
          "base_uri": "https://localhost:8080/",
          "height": 283
        },
        "id": "9ThpmITGfOnL",
        "outputId": "cdcea456-b8e0-4872-ec06-12bdbbd4d2ca"
      },
      "source": [
        "for i in range(3):\n",
        "  plt.plot(months, rain[i,:], marker = 'o', label = cities[i])\n",
        "  \n",
        "\n",
        "plt.ylabel('Rainfall (mm)')\n",
        "plt.xlabel('Month')\n",
        "plt.legend(loc = 'best');"
      ],
      "execution_count": 21,
      "outputs": [
        {
          "output_type": "display_data",
          "data": {
            "image/png": "[encoded data removed]",
            "text/plain": [
              "<Figure size 432x288 with 1 Axes>"
            ]
          },
          "metadata": {
            "needs_background": "light"
          }
        }
      ]
    },
    {
      "cell_type": "code",
      "metadata": {
        "colab": {
          "base_uri": "https://localhost:8080/",
          "height": 285
        },
        "id": "T7QoZU1WhlhY",
        "outputId": "e8748c0c-7fcd-44e2-f056-5af00de81cac"
      },
      "source": [
        "#Average for each city\n",
        "np.average(rain[0,:])\n",
        "\n",
        "for i in range(3):\n",
        "  plt.bar(cities[i], np.average(rain[i,:]))\n",
        "\n",
        "plt.ylabel('Rainfall (mm)')"
      ],
      "execution_count": 30,
      "outputs": [
        {
          "output_type": "execute_result",
          "data": {
            "text/plain": [
              "Text(0, 0.5, 'Rainfall (mm)')"
            ]
          },
          "metadata": {},
          "execution_count": 30
        },
        {
          "output_type": "display_data",
          "data": {
            "image/png": "[encoded data removed]",
            "text/plain": [
              "<Figure size 432x288 with 1 Axes>"
            ]
          },
          "metadata": {
            "needs_background": "light"
          }
        }
      ]
    },
    {
      "cell_type": "code",
      "metadata": {
        "colab": {
          "base_uri": "https://localhost:8080/",
          "height": 299
        },
        "id": "Y_pNE_pwhldQ",
        "outputId": "6b46ad9e-73c3-47fb-e716-a48d528416ac"
      },
      "source": [
        "average = np.zeros(12)\n",
        "for i in range (12):\n",
        "  average[i] = np.average(rain[:,i]) \n",
        "\n",
        "#Easier method (1 = column, 0 = rows)\n",
        "print(np.average(rain, axis = 1))\n",
        "\n",
        "plt.plot(months, average, marker = 'o')"
      ],
      "execution_count": 41,
      "outputs": [
        {
          "output_type": "stream",
          "name": "stdout",
          "text": [
            "[96.00833333 42.85        1.24416667]\n"
          ]
        },
        {
          "output_type": "execute_result",
          "data": {
            "text/plain": [
              "[<matplotlib.lines.Line2D at 0x7faba5a84d10>]"
            ]
          },
          "metadata": {},
          "execution_count": 41
        },
        {
          "output_type": "display_data",
          "data": {
            "image/png": "[encoded data removed]",
            "text/plain": [
              "<Figure size 432x288 with 1 Axes>"
            ]
          },
          "metadata": {
            "needs_background": "light"
          }
        }
      ]
    },
    {
      "cell_type": "code",
      "metadata": {
        "id": "fcKyTWYghlTz"
      },
      "source": [
        ""
      ],
      "execution_count": null,
      "outputs": []
    },
    {
      "cell_type": "markdown",
      "metadata": {
        "id": "IMH6AeJ2c_wR"
      },
      "source": [
        "## Sudoku\n",
        "\n",
        "A [Sudoku](https://en.wikipedia.org/wiki/Sudoku) square is a square of 9 by 9 integers from 1 to 9, such that each row, each column and each of the 9 non-overlapping 3 by 3 sub-square contains all the integers from 1 to 9.\n",
        "\n",
        "Write a program to check if a 9 by 9 square of integers is a _Sudoku_ square. You may need to use `set()`, a command that returns the unique elements of an array, e.g.:"
      ]
    },
    {
      "cell_type": "code",
      "metadata": {
        "id": "UgH2cLoBc_wT",
        "outputId": "7ae0fa9c-916b-4b78-9c31-6a794dd796b0"
      },
      "source": [
        "set([1,2,3,3,4,4,5])"
      ],
      "execution_count": null,
      "outputs": [
        {
          "data": {
            "text/plain": [
              "{1, 2, 3, 4, 5}"
            ]
          },
          "execution_count": 1,
          "metadata": {},
          "output_type": "execute_result"
        }
      ]
    },
    {
      "cell_type": "markdown",
      "metadata": {
        "id": "TOgSUdBrc_wV"
      },
      "source": [
        "Using this program, try to use the [Monte Carlo](https://github.com/PX2134/extra/blob/master/Monte_Carlo.ipynb) method to write a Sudoku solver."
      ]
    },
    {
      "cell_type": "code",
      "metadata": {
        "id": "cw7enbyDc_wV"
      },
      "source": [
        ""
      ],
      "execution_count": null,
      "outputs": []
    }
  ]
}