{
 "cells": [
  {
   "cell_type": "code",
   "execution_count": 1,
   "metadata": {},
   "outputs": [],
   "source": [
    "# For this, let's have fun with turtles\n",
    "from turtle import *\n",
    "import numpy as np"
   ]
  },
  {
   "cell_type": "code",
   "execution_count": 2,
   "metadata": {},
   "outputs": [],
   "source": [
    "# Generating one yellow star\n",
    "def star(size):\n",
    "    color('orange','yellow')\n",
    "    begin_fill()\n",
    "    left(126)\n",
    "    \n",
    "    # loop for each fo the five points of the star\n",
    "    for i in range(5):\n",
    "        forward(size/5)\n",
    "        right(144)\n",
    "        forward(size/5)\n",
    "        left(72)\n",
    "    end_fill()\n",
    "    right(126)\n",
    "    # back to the tree color\n",
    "    color('dark green')\n",
    "    return"
   ]
  },
  {
   "cell_type": "code",
   "execution_count": 3,
   "metadata": {},
   "outputs": [],
   "source": [
    "# Generating one red bauble\n",
    "# assumes we are on a tip of a branch\n",
    "def bauble(size):\n",
    "    if np.random.rand() < 0.5:\n",
    "        color('blue','steelblue')\n",
    "    else:\n",
    "        color('red','firebrick')\n",
    "    # right-hand side:\n",
    "    if position()[0] >= 0:\n",
    "        right(60)\n",
    "        # drawing the string\n",
    "        forward(size)\n",
    "        right(90)\n",
    "    # left-hand side\n",
    "    else:\n",
    "        left(60)\n",
    "        forward(size)\n",
    "        right(90)\n",
    "    begin_fill()\n",
    "    # drawing the bauble itself.\n",
    "    circle(size)\n",
    "    end_fill()\n",
    "    # right-hand side:\n",
    "    if position()[0] >= 0:\n",
    "        left(90)\n",
    "        backward(size)\n",
    "        left(60)\n",
    "    # left-hand side\n",
    "    else:\n",
    "        left(90)\n",
    "        backward(size)\n",
    "        right(60)\n",
    "    # back to the tree color\n",
    "    color('dark green')\n",
    "    return\n"
   ]
  },
  {
   "cell_type": "code",
   "execution_count": 4,
   "metadata": {},
   "outputs": [],
   "source": [
    "# Generating the tree\n",
    "def tree(d, s):\n",
    "    global max_sides\n",
    "    # only quit the function once order is 0\n",
    "    if d <= 0: return\n",
    "    forward(s)\n",
    "    \n",
    "    # If we are on the very tip of a branch\n",
    "    if abs(position()[0]) >= max_sides-1e-4 and d==1:\n",
    "        max_sides = abs(position()[0])\n",
    "        bauble(size/10)\n",
    "    \n",
    "    # recursion:\n",
    "    tree(d-1,s*0.8)\n",
    "    right(120)\n",
    "    tree(d-3,s*0.5)\n",
    "    right(120)\n",
    "    tree(d-3,s*0.5)\n",
    "    right(120)\n",
    "    backward(s)\n"
   ]
  },
  {
   "cell_type": "code",
   "execution_count": 5,
   "metadata": {
    "scrolled": false
   },
   "outputs": [],
   "source": [
    "# The scale of the tree\n",
    "size = 100\n",
    "# The depth of the tree\n",
    "depth = 18\n",
    "# Counter to mark how far left or right we have been\n",
    "max_sides=10.0\n",
    "\n",
    "clearscreen()\n",
    "\n",
    "# have the turtle move fast !\n",
    "speed('fastest')\n",
    "\n",
    "# initial position:\n",
    "left(90)\n",
    "forward(3*size)\n",
    "# drawing the star at the top\n",
    "star(size)\n",
    "\n",
    "backward(size*4.8)\n",
    "\n",
    "# drawing the tree\n",
    "tree(depth,size)\n",
    "\n",
    "backward(size/2)"
   ]
  },
  {
   "cell_type": "code",
   "execution_count": null,
   "metadata": {},
   "outputs": [],
   "source": []
  }
 ],
 "metadata": {
  "kernelspec": {
   "display_name": "Python 3",
   "language": "python",
   "name": "python3"
  },
  "language_info": {
   "codemirror_mode": {
    "name": "ipython",
    "version": 3
   },
   "file_extension": ".py",
   "mimetype": "text/x-python",
   "name": "python",
   "nbconvert_exporter": "python",
   "pygments_lexer": "ipython3",
   "version": "3.7.10"
  }
 },
 "nbformat": 4,
 "nbformat_minor": 2
}
